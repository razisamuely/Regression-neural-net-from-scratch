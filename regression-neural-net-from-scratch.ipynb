{
  "nbformat": 4,
  "nbformat_minor": 0,
  "metadata": {
    "colab": {
      "name": "Untitled0.ipynb",
      "provenance": []
    },
    "kernelspec": {
      "name": "python3",
      "display_name": "Python 3"
    },
    "language_info": {
      "name": "python"
    }
  },
  "cells": [
    {
      "cell_type": "code",
      "metadata": {
        "id": "x50_m6m_GWAv"
      },
      "source": [
        "# Imports \n",
        "import numpy as np\n",
        "import matplotlib.pyplot as plt\n",
        "from IPython import display\n",
        "from IPython.display import clear_output\n",
        "import math"
      ],
      "execution_count": 23,
      "outputs": []
    },
    {
      "cell_type": "code",
      "metadata": {
        "id": "05ILZFNMGYet"
      },
      "source": [
        "# -- Transition functions \n",
        "def relu(x):\n",
        "    return (x > 0) * x\n",
        "\n",
        "\n",
        "def relu_derivative(output):\n",
        "    return output > 0\n",
        "\n",
        "\n",
        "def tanh(x):\n",
        "    return (np.e ** (x) - np.e ** (-x)) / (np.e ** (x) + np.e ** (-x))\n",
        "\n",
        "\n",
        "def tanh_derivative(x):\n",
        "    return 1 - tanh(x)\n",
        "\n",
        "def lrelu(x):\n",
        "    x = np.where(x > 0, x, x * 0.001)\n",
        "    return x\n",
        "\n",
        "def lrelu_derivative(x):\n",
        "    dx = np.ones_like(x)\n",
        "    dx[x < 0] = 0.001\n",
        "    return dx"
      ],
      "execution_count": 24,
      "outputs": []
    },
    {
      "cell_type": "code",
      "metadata": {
        "id": "VC_9myMoGbna"
      },
      "source": [
        "# choose Transition function\n",
        "transition_func = tanh\n",
        "transition_func_derivative =tanh_derivative\n"
      ],
      "execution_count": 25,
      "outputs": []
    },
    {
      "cell_type": "code",
      "metadata": {
        "id": "7EJ749HZGmgx"
      },
      "source": [
        "# -- Data\n",
        "\n",
        "# coos (1) or (2) or generate yor own data \n",
        "np.random.seed(seed=1)\n",
        "\n",
        "# (1)\n",
        "# n = 200\n",
        "# x = np.array(np.array([(1, i + np.random.normal(loc=4, scale=6)) for i in range(0, n)]))\n",
        "# y = np.array([np.array([i + np.random.normal(loc=0, scale=2, )]) for i in range(0, n)])\n",
        "# y = (y - y.mean()) ** 2\n",
        "\n",
        "# (2)\n",
        "x = np.arange(0,3*np.pi,0.1)   # start,stop,step\n",
        "y = np.sin(x).reshape(len(x),1)\n",
        "x = np.array(np.array([(1, i + np.random.normal(loc=0, scale=0.2))for i in x]))\n"
      ],
      "execution_count": 26,
      "outputs": []
    },
    {
      "cell_type": "code",
      "metadata": {
        "id": "gyrFyYNnGnoI"
      },
      "source": [
        "# -- Normalization\n",
        "x[:, 1] = (x[:, 1] - x[:, 1].mean()) / x[:, 1].std()\n",
        "y = (y - y.mean()) / y.std()"
      ],
      "execution_count": 27,
      "outputs": []
    },
    {
      "cell_type": "code",
      "metadata": {
        "id": "LpnfPcv4Gp3E"
      },
      "source": [
        "# -- Scaling \n",
        "x[:, 1] = (x[:, 1] + abs(x[:, 1].min()))\n",
        "x[:, 1] = x[:, 1] / x[:, 1].max()"
      ],
      "execution_count": 28,
      "outputs": []
    },
    {
      "cell_type": "code",
      "metadata": {
        "id": "n6Hola-xGrZA"
      },
      "source": [
        "# -- Params \n",
        "# Step size  \n",
        "alpha = 0.01\n",
        "\n",
        "# Number of iterations \n",
        "iters = 100000\n",
        "\n",
        "# Number of nuerons \n",
        "hidden_size = 20"
      ],
      "execution_count": 29,
      "outputs": []
    },
    {
      "cell_type": "code",
      "metadata": {
        "id": "MIizH7htGuVR"
      },
      "source": [
        "# -- Weights initiation \n",
        "# Final_Weights \n",
        "mu = y.mean()\n",
        "\n",
        "w2 = np.array([np.random.normal(loc=mu, scale=0.5) for i in range(0, hidden_size)]).reshape(hidden_size, 1)\n",
        "\n",
        "# First_hidden_weigts\n",
        "w1 = np.array(np.array([[np.random.normal(loc=mu, scale=0.5)] * hidden_size for i in range(0, x.shape[1])]))\n"
      ],
      "execution_count": 30,
      "outputs": []
    },
    {
      "cell_type": "code",
      "metadata": {
        "colab": {
          "base_uri": "https://localhost:8080/",
          "height": 336
        },
        "id": "TRUKEncWF9ri",
        "outputId": "7a129326-75b3-4051-b733-4608daf1c82d"
      },
      "source": [
        "\n",
        "\n",
        "# -- iterate and plot predicted vs actual each 300 iterations\n",
        "for iteration in range(10):\n",
        "    for i in range(len(x)):\n",
        "        # batch\n",
        "        layer_0 = x[i:i + 1]\n",
        "\n",
        "        # - Forward -\n",
        "        y_hat = transition_func(layer_0 @ w1) @ w2\n",
        "\n",
        "        # - Backward -\n",
        "        # Predicted vs actual\n",
        "        diff = y_hat - y[i:i + 1]\n",
        "\n",
        "        # w2 gradient \n",
        "        w2_grad = diff @ transition_func(layer_0 @ w1)\n",
        "\n",
        "        # w1 gradient \n",
        "        w1_grad = (diff @ w2.T * transition_func_derivative(layer_0 @ w1)).T @ layer_0\n",
        "\n",
        "        # update weights        \n",
        "        w2 -= alpha * w2_grad.T\n",
        "        w1 -= alpha * w1_grad.T\n",
        "\n",
        "    if iteration % 50 == 0:\n",
        "        y_pred = transition_func(x @ w1) @ w2\n",
        "        n = len(x)\n",
        "        e = sum((y_pred - y) ** 2 / n)[0]\n",
        "\n",
        "        clear_output(wait=True)\n",
        "        fig = plt.figure()\n",
        "        ax = fig.add_axes([0, 0, 1, 1])\n",
        "        ax.scatter(x=x[:, 1], y=y, color='r')\n",
        "        ax.scatter(x[:, 1], y_pred, color='darkblue')\n",
        "        ax.text(x.min(),y.min(), f'func: TANH\\nrmse: {e:.3}\\niteration: {iteration} ',bbox=dict(facecolor='darkblue', alpha=0.01))\n",
        "            \n",
        "        plt.show()\n",
        "            \n",
        "\n"
      ],
      "execution_count": 32,
      "outputs": [
        {
          "output_type": "display_data",
          "data": {
            "image/png": "[encoded data removed]",
            "text/plain": [
              "<Figure size 432x288 with 1 Axes>"
            ]
          },
          "metadata": {
            "needs_background": "light"
          }
        }
      ]
    },
    {
      "cell_type": "code",
      "metadata": {
        "id": "txi0e6r4IQf9"
      },
      "source": [
        "# Lets try it with RELU\n",
        "transition_func = relu\n",
        "transition_func_derivative =relu_derivative\n"
      ],
      "execution_count": 33,
      "outputs": []
    },
    {
      "cell_type": "code",
      "metadata": {
        "colab": {
          "base_uri": "https://localhost:8080/",
          "height": 336
        },
        "id": "tJA3ERdRF_EZ",
        "outputId": "8bd490ef-4746-4e56-ec35-2c894076aa2f"
      },
      "source": [
        "\n",
        "# -- Data\n",
        "\n",
        "# coos (1) or (2) or generate yor own data \n",
        "np.random.seed(seed=1)\n",
        "\n",
        "# (1)\n",
        "n = 200\n",
        "x = np.array(np.array([(1, i + np.random.normal(loc=4, scale=6)) for i in range(0, n)]))\n",
        "y = np.array([np.array([i + np.random.normal(loc=0, scale=2, )]) for i in range(0, n)])\n",
        "y = (y - y.mean()) ** 2\n",
        "\n",
        "# (2)\n",
        "# x = np.arange(0,3*np.pi,0.1)   # start,stop,step\n",
        "# y = np.sin(x).reshape(len(x),1)\n",
        "# x = np.array(np.array([(1, i + np.random.normal(loc=0, scale=0.2))for i in x]))\n",
        "\n",
        "# -- Normalization\n",
        "x[:, 1] = (x[:, 1] - x[:, 1].mean()) / x[:, 1].std()\n",
        "y = (y - y.mean()) / y.std()\n",
        "\n",
        "# -- Scaling \n",
        "x[:, 1] = (x[:, 1] + abs(x[:, 1].min()))\n",
        "x[:, 1] = x[:, 1] / x[:, 1].max()\n",
        "\n",
        "# -- Params \n",
        "# Step size  \n",
        "alpha = 0.001\n",
        "\n",
        "# Number of iterations \n",
        "iters = 100000\n",
        "\n",
        "# Number of nuerons \n",
        "hidden_size = 20\n",
        "\n",
        "\n",
        "# -- Weights initiation \n",
        "# Final_Weights \n",
        "mu = y.mean()\n",
        "\n",
        "w2 = np.array([np.random.normal(loc=mu, scale=0.5) for i in range(0, hidden_size)]).reshape(hidden_size, 1)\n",
        "\n",
        "# First_hidden_weigts\n",
        "w1 = np.array(np.array([[np.random.normal(loc=mu, scale=0.5)] * hidden_size for i in range(0, x.shape[1])]))\n",
        "\n",
        "\n",
        "# -- iterate and plot predicted vs actual each 300 iterations\n",
        "for iteration in range(iters):\n",
        "    for i in range(len(x)):\n",
        "        # batch\n",
        "        layer_0 = x[i:i + 1]\n",
        "\n",
        "        # - Forward -\n",
        "        y_hat = transition_func(layer_0 @ w1) @ w2\n",
        "\n",
        "        # - Backward -\n",
        "        # Predicted vs actual\n",
        "        diff = y_hat - y[i:i + 1]\n",
        "\n",
        "        # w2 gradient \n",
        "        w2_grad = diff @ transition_func(layer_0 @ w1)\n",
        "\n",
        "        # w1 gradient \n",
        "        w1_grad = (diff @ w2.T * transition_func_derivative(layer_0 @ w1)).T @ layer_0\n",
        "\n",
        "        # update weights        \n",
        "        w2 -= alpha * w2_grad.T\n",
        "        w1 -= alpha * w1_grad.T\n",
        "\n",
        "    if iteration % 50 == 0:\n",
        "        y_pred = transition_func(x @ w1) @ w2\n",
        "        n = len(x)\n",
        "        e = sum((y_pred - y) ** 2 / n)[0]\n",
        "\n",
        "        clear_output(wait=True)\n",
        "        fig = plt.figure()\n",
        "        ax = fig.add_axes([0, 0, 1, 1])\n",
        "        ax.scatter(x=x[:, 1], y=y, color='r')\n",
        "        ax.scatter(x[:, 1], y_pred, color='darkblue')\n",
        "        ax.text(x.min(),y.min(), f'func: RELU\\nrmse: {e:.3}\\niteration: {iteration} ',bbox=dict(facecolor='darkblue', alpha=0.01))\n",
        "            \n",
        "        plt.show()\n",
        "            \n",
        "\n",
        "\n"
      ],
      "execution_count": 35,
      "outputs": [
        {
          "output_type": "display_data",
          "data": {
            "image/png": "[encoded data removed]",
            "text/plain": [
              "<Figure size 432x288 with 1 Axes>"
            ]
          },
          "metadata": {
            "needs_background": "light"
          }
        }
      ]
    },
    {
      "cell_type": "code",
      "metadata": {
        "id": "DoDIYkzDIXp3"
      },
      "source": [
        ""
      ],
      "execution_count": null,
      "outputs": []
    }
  ]
}